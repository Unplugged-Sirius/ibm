{
 "cells": [
  {
   "cell_type": "markdown",
   "id": "adc89284-ffbe-4da9-b364-4d48f28981a4",
   "metadata": {},
   "source": [
    "<h1>Data Science Tools and Ecosystem</h1>"
   ]
  },
  {
   "cell_type": "markdown",
   "id": "3857c890-b6ed-4589-9c0d-b17096061d9d",
   "metadata": {},
   "source": [
    "here is a peer graded assignment for tools for datascience."
   ]
  },
  {
   "cell_type": "markdown",
   "id": "1f8c7673-ffe0-4763-92b8-da6db6a378eb",
   "metadata": {},
   "source": [
    "Some of the popular data Science languages are \n",
    "<ol>\n",
    "<li>Python</li>\n",
    "<li>R</li>\n",
    "<li>Scala</li>\n",
    "</ol>"
   ]
  },
  {
   "cell_type": "markdown",
   "id": "7a2fd0f0-561b-4674-a6b6-8ac562baa302",
   "metadata": {},
   "source": [
    "and some of the populr data science libraries include:\n",
    "<ol>\n",
    "    <li>Pandas</li>\n",
    "    <li>Numpy</li>\n",
    "    <li>ScikitLearn</li>\n",
    "    <li>matplotlib</li>\n",
    "</ol>"
   ]
  },
  {
   "cell_type": "markdown",
   "id": "126eb217-0385-47cd-87b9-eb258a4cf74c",
   "metadata": {},
   "source": [
    "<b>Popular languages are</b> \n",
    "<ul>\n",
    "    <li>\n",
    "        Python\n",
    "    </li>\n",
    "    <li>\n",
    "        r\n",
    "    </li>\n",
    "    <li>\n",
    "        Scala\n",
    "    </li>\n",
    "</ul>"
   ]
  },
  {
   "cell_type": "markdown",
   "id": "7de6aed9-aa17-4321-8921-ab88b8c96c18",
   "metadata": {},
   "source": [
    "<table>\n",
    "    <tr>\n",
    "        <th>\n",
    "            tools for data science\n",
    "        </th>\n",
    "    </tr>\n",
    "    <tr>\n",
    "        <td>\n",
    "            Python\n",
    "        </td>\n",
    "    <tr>\n",
    "        <td>\n",
    "            SQL\n",
    "        </td>\n",
    "    </tr>\n",
    "    <tr>\n",
    "        <td>\n",
    "            PowerBI\n",
    "        </td>\n",
    "    </tr>\n",
    "</table>"
   ]
  },
  {
   "cell_type": "markdown",
   "id": "f1640888-8756-4da9-ac88-5bbb8871947e",
   "metadata": {},
   "source": [
    "<h3>Below are a few examples of evaluating arithmetic expressions in Python.</h3>\n",
    " \\(5 + 3 = 8\\)\n",
    " Multiplication**: \\(4 \\times 3 = 12\\)\n"
   ]
  },
  {
   "cell_type": "code",
   "execution_count": 3,
   "id": "8894045a-6860-4d9d-991a-4cc870f6da38",
   "metadata": {},
   "outputs": [
    {
     "data": {
      "text/plain": [
       "17"
      ]
     },
     "execution_count": 3,
     "metadata": {},
     "output_type": "execute_result"
    }
   ],
   "source": [
    "(3*4)+5"
   ]
  },
  {
   "cell_type": "code",
   "execution_count": 7,
   "id": "fd96f1c0-6304-4750-bafc-73f8baf30119",
   "metadata": {},
   "outputs": [
    {
     "name": "stdout",
     "output_type": "stream",
     "text": [
      "3.3333333333333335\n"
     ]
    }
   ],
   "source": [
    "# mins to hours \n",
    "miuites = 200\n",
    "hours = miuites/60\n",
    "print(hours)"
   ]
  },
  {
   "cell_type": "markdown",
   "id": "80b6483a-cd2c-46a7-bdb9-6e4284ce781c",
   "metadata": {},
   "source": [
    "<h2>Author</h2>\n",
    "STG"
   ]
  },
  {
   "cell_type": "code",
   "execution_count": null,
   "id": "23100c8b-28c3-4b3c-86e2-d22c716dc824",
   "metadata": {},
   "outputs": [],
   "source": []
  }
 ],
 "metadata": {
  "kernelspec": {
   "display_name": "Python 3 (ipykernel)",
   "language": "python",
   "name": "python3"
  },
  "language_info": {
   "codemirror_mode": {
    "name": "ipython",
    "version": 3
   },
   "file_extension": ".py",
   "mimetype": "text/x-python",
   "name": "python",
   "nbconvert_exporter": "python",
   "pygments_lexer": "ipython3",
   "version": "3.10.12"
  }
 },
 "nbformat": 4,
 "nbformat_minor": 5
}
